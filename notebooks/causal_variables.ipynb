{
 "cells": [
  {
   "cell_type": "markdown",
   "metadata": {},
   "source": [
    "Want to explore $p(z)$ and how the solution function maps $e$ to $z$."
   ]
  },
  {
   "cell_type": "code",
   "execution_count": 2,
   "metadata": {},
   "outputs": [
    {
     "name": "stderr",
     "output_type": "stream",
     "text": [
      "/mnt/antares_raid/home/jonasb/mambaforge/envs/wscrl/lib/python3.8/site-packages/tqdm/auto.py:21: TqdmWarning: IProgress not found. Please update jupyter and ipywidgets. See https://ipywidgets.readthedocs.io/en/stable/user_install.html\n",
      "  from .autonotebook import tqdm as notebook_tqdm\n",
      "/mnt/antares_raid/home/jonasb/Projects/wscrl/repo/experiments/cubes_2d.py:50: UserWarning: \n",
      "The version_base parameter is not specified.\n",
      "Please specify a compatability version level, or None.\n",
      "Will assume defaults for version 1.1\n",
      "  @hydra.main(\n"
     ]
    }
   ],
   "source": [
    "from experiments.cubes_2d import get_dataloader, create_model, eval_dci_scores"
   ]
  },
  {
   "cell_type": "code",
   "execution_count": 3,
   "metadata": {},
   "outputs": [],
   "source": [
    "import logging\n",
    "from omegaconf import OmegaConf\n",
    "import torch\n",
    "from pathlib import Path\n",
    "import matplotlib.pyplot as plt\n",
    "import numpy as np\n",
    "from torch.utils.data import DataLoader, Subset\n",
    "\n",
    "torch.set_grad_enabled(False)\n",
    "\n",
    "logger = logging.getLogger()\n",
    "\n",
    "\n",
    "# EXP_DIR = Path(\"/mnt/raid/ni/jonasb/wscrl/son_causal_variables_2dcubes_manhattan_equi_child_noise_allow_collisions_25k\")\n",
    "EXP_DIR = Path(\n",
    "    \"/mnt/raid/ni/jonasb/wscrl/son_causal_variables_2dcubes_allow_collisions_25k_1.0_child_noise_scaling_config\"\n",
    ")\n",
    "\n",
    "model_path = EXP_DIR / \"models\" / \"model.pt\"\n",
    "# model_path = EXP_DIR / \"models\" / \"model_step_150000.pt\"\n",
    "cfg_path = EXP_DIR / \"config.yml\"\n",
    "\n",
    "cfg = OmegaConf.load(cfg_path)\n",
    "\n",
    "model = create_model(cfg)\n",
    "model.load_state_dict(torch.load(model_path))\n",
    "model.eval()\n",
    "\n",
    "device = torch.device(cfg.training.device)\n",
    "model.to(device)\n",
    "\n",
    "dim_z = cfg.data.dim_z\n",
    "\n",
    "CAUSAL_VARIABLES = [\n",
    "    \"pos_x1\",\n",
    "    \"pos_y1\",\n",
    "    \"pos_x2\",\n",
    "    \"pos_y2\",\n",
    "    \"pos_x3\",\n",
    "    \"pos_y3\",\n",
    "]\n",
    "\n",
    "CAUSAL_GRAPH = torch.tensor(\n",
    "    [\n",
    "        [0, 0, 0, 0, 1, 0],\n",
    "        [0, 0, 0, 0, 0, 1],\n",
    "        [0, 0, 0, 0, 1, 0],\n",
    "        [0, 0, 0, 0, 0, 1],\n",
    "        [0, 0, 0, 0, 0, 0],\n",
    "        [0, 0, 0, 0, 0, 0],\n",
    "    ]\n",
    ")"
   ]
  },
  {
   "cell_type": "code",
   "execution_count": 4,
   "metadata": {},
   "outputs": [],
   "source": [
    "val_loader = get_dataloader(cfg, \"val\", shuffle=False, batchsize=32)"
   ]
  },
  {
   "cell_type": "code",
   "execution_count": 5,
   "metadata": {},
   "outputs": [],
   "source": [
    "def encode_images(model, loader):\n",
    "    e1_hat_list = []\n",
    "    e2_hat_list = []\n",
    "\n",
    "    z1_hat_list = []\n",
    "    z2_hat_list = []\n",
    "    for i, batch in enumerate(loader):\n",
    "        print(f\"Batch {i + 1} / {len(loader)}\", end=\"\\r\")\n",
    "        x1, x2, *_ = batch\n",
    "\n",
    "        x1 = x1.to(device)\n",
    "        x2 = x2.to(device)\n",
    "\n",
    "        e1_hat = model.encode_to_noise(x1)\n",
    "        e2_hat = model.encode_to_noise(x2)\n",
    "\n",
    "        z1_hat = model.encode_to_causal(x1)\n",
    "        z2_hat = model.encode_to_causal(x2)\n",
    "\n",
    "        e1_hat_list.append(e1_hat.cpu().numpy())\n",
    "        e2_hat_list.append(e2_hat.cpu().numpy())\n",
    "\n",
    "        z1_hat_list.append(z1_hat.cpu().numpy())\n",
    "        z2_hat_list.append(z2_hat.cpu().numpy())\n",
    "\n",
    "    e1_hat = np.concatenate(e1_hat_list)\n",
    "    e2_hat = np.concatenate(e2_hat_list)\n",
    "\n",
    "    z1_hat = np.concatenate(z1_hat_list)\n",
    "    z2_hat = np.concatenate(z2_hat_list)\n",
    "    return e1_hat, e2_hat, z1_hat, z2_hat"
   ]
  },
  {
   "cell_type": "code",
   "execution_count": 6,
   "metadata": {},
   "outputs": [],
   "source": [
    "def calculate_causal_variables(model, loader):\n",
    "    z1_hat_list = []\n",
    "    z2_hat_list = []\n",
    "    for i, batch in enumerate(loader):\n",
    "        print(f\"Batch {i + 1} / {len(loader)}\", end=\"\\r\")\n",
    "        x1, x2, *_ = batch\n",
    "\n",
    "        x1 = x1.to(device)\n",
    "        x2 = x2.to(device)\n",
    "\n",
    "        z1_hat = model.encode_to_causal(x1)\n",
    "        z2_hat = model.encode_to_causal(x2)\n",
    "\n",
    "        z1_hat_list.append(z1_hat.cpu().numpy())\n",
    "        z2_hat_list.append(z2_hat.cpu().numpy())\n",
    "    z1_hat = np.concatenate(z1_hat_list)\n",
    "    z2_hat = np.concatenate(z2_hat_list)\n",
    "    return z1_hat, z2_hat"
   ]
  },
  {
   "cell_type": "code",
   "execution_count": 7,
   "metadata": {},
   "outputs": [
    {
     "name": "stdout",
     "output_type": "stream",
     "text": [
      "Batch 32 / 32\r"
     ]
    },
    {
     "data": {
      "image/png": "[encoded data removed]",
      "text/plain": [
       "<Figure size 640x480 with 6 Axes>"
      ]
     },
     "metadata": {},
     "output_type": "display_data"
    }
   ],
   "source": [
    "def plot_causal_variables(model, loader):\n",
    "    e1_hat, e2_hat, z1_hat, z2_hat = encode_images(model, val_loader)\n",
    "\n",
    "    fig, axes = plt.subplots(nrows=dim_z, sharex=True, sharey=True)\n",
    "\n",
    "    # z_zero = model.scm.noise_to_causal(torch.zeros(1, dim_z).to(device)).cpu().numpy()\n",
    "\n",
    "    e1_mean = torch.tensor(e1_hat.mean(axis=0)).unsqueeze(0)\n",
    "    z_center = model.scm.noise_to_causal(e1_mean.to(device)).cpu().numpy()\n",
    "    for dim in range(dim_z):\n",
    "        ax = axes[dim]\n",
    "\n",
    "        ax.hist(z1_hat[:, dim], bins=100, density=True)\n",
    "\n",
    "        e1_changed = e1_mean + 1\n",
    "        e1_changed[:, dim] = e1_mean[:, dim]\n",
    "        z_changed = model.scm.noise_to_causal(e1_changed.to(device)).cpu().numpy()\n",
    "\n",
    "        # ax.axvline(z_zero[0, dim], color=\"red\")\n",
    "        ax.axvline(z_center[0, dim], color=\"yellow\")\n",
    "        ax.axvline(z_changed[0, dim], color=\"red\")\n",
    "\n",
    "\n",
    "plot_causal_variables(model, val_loader)"
   ]
  },
  {
   "cell_type": "markdown",
   "metadata": {},
   "source": [
    "Check if $p(z)$ with $z=s(\\widetilde{e_i};e_{\\setminus i})$ is independent of $e_{\\setminus i}$"
   ]
  },
  {
   "cell_type": "code",
   "execution_count": 13,
   "metadata": {},
   "outputs": [
    {
     "data": {
      "text/plain": [
       "(array([10., 10., 10., 10., 10., 10., 10., 10., 10., 10., 10., 10., 10.,\n",
       "        10., 10., 10., 10., 10., 10., 10., 10., 10., 10., 10., 10., 10.,\n",
       "        10., 10., 10., 10., 10., 10., 10., 10., 10., 10., 10., 10., 10.,\n",
       "        10., 10., 10., 10., 10., 10., 10., 10., 10., 10., 10., 10., 10.,\n",
       "        10., 10., 10., 10., 10., 10., 10., 10., 10., 10., 10., 10., 10.,\n",
       "        10., 10., 10., 10., 10., 10., 10., 10., 10., 10., 10., 10., 10.,\n",
       "        10., 10., 10., 10., 10., 10., 10., 10., 10., 10., 10., 10., 10.,\n",
       "        10., 10., 10., 10., 10., 10., 10., 10., 10.]),\n",
       " array([-0.87955672, -0.85482442, -0.83009213, -0.80535984, -0.78062755,\n",
       "        -0.75589526, -0.73116297, -0.70643067, -0.68169838, -0.65696609,\n",
       "        -0.63223374, -0.60750145, -0.58276916, -0.55803686, -0.53330457,\n",
       "        -0.50857228, -0.48383999, -0.4591077 , -0.43437541, -0.40964311,\n",
       "        -0.38491082, -0.36017853, -0.33544624, -0.31071395, -0.28598166,\n",
       "        -0.26124936, -0.23651706, -0.21178477, -0.18705246, -0.16232017,\n",
       "        -0.13758788, -0.11285558, -0.08812328, -0.06339099, -0.0386587 ,\n",
       "        -0.0139264 ,  0.01080589,  0.03553819,  0.06027048,  0.08500278,\n",
       "         0.10973507,  0.13446736,  0.15919966,  0.18393196,  0.20866425,\n",
       "         0.23339655,  0.25812885,  0.28286114,  0.30759344,  0.33232573,\n",
       "         0.35705802,  0.38179031,  0.4065226 ,  0.43125489,  0.45598719,\n",
       "         0.48071951,  0.5054518 ,  0.53018409,  0.55491638,  0.57964867,\n",
       "         0.60438097,  0.62911326,  0.65384555,  0.67857784,  0.70331013,\n",
       "         0.72804242,  0.75277472,  0.77750701,  0.8022393 ,  0.82697159,\n",
       "         0.85170388,  0.87643623,  0.90116853,  0.92590082,  0.95063311,\n",
       "         0.9753654 ,  1.00009763,  1.02482998,  1.04956222,  1.07429457,\n",
       "         1.09902692,  1.12375915,  1.1484915 ,  1.17322373,  1.19795609,\n",
       "         1.22268832,  1.24742067,  1.2721529 ,  1.29688525,  1.32161748,\n",
       "         1.34634984,  1.37108207,  1.39581442,  1.42054665,  1.445279  ,\n",
       "         1.47001123,  1.49474359,  1.51947582,  1.54420817,  1.5689404 ,\n",
       "         1.59367275]),\n",
       " <BarContainer object of 100 artists>)"
      ]
     },
     "execution_count": 13,
     "metadata": {},
     "output_type": "execute_result"
    },
    {
     "data": {
      "image/png": "[encoded data removed]",
      "text/plain": [
       "<Figure size 640x480 with 1 Axes>"
      ]
     },
     "metadata": {},
     "output_type": "display_data"
    }
   ],
   "source": [
    "# e1_hat, e2_hat, z1_hat, z2_hat = encode_images(model, val_loader)\n",
    "\n",
    "num_samples = 1000\n",
    "\n",
    "e_values = torch.linspace(-1, 1, num_samples)\n",
    "e_zero = torch.zeros(num_samples, dim_z)\n",
    "e_one = torch.ones(num_samples, dim_z)\n",
    "\n",
    "e_combined = e_one.clone()\n",
    "e_combined[:, 0] = e_values\n",
    "\n",
    "z_hat = model.scm.noise_to_causal(e_combined.to(device)).cpu().numpy()\n",
    "\n",
    "plt.hist(z_hat[:, 0], bins=100)"
   ]
  },
  {
   "cell_type": "markdown",
   "metadata": {},
   "source": [
    "ConditionalAffineTransform: NN gives scale and shift -> have linear relationship between $\\widetilde{e}$ and $z$ (keeping the other inputs constant)"
   ]
  },
  {
   "cell_type": "code",
   "execution_count": 9,
   "metadata": {},
   "outputs": [
    {
     "data": {
      "text/plain": [
       "[<matplotlib.lines.Line2D at 0x7f4a20b55400>]"
      ]
     },
     "execution_count": 9,
     "metadata": {},
     "output_type": "execute_result"
    },
    {
     "data": {
      "image/png": "[encoded data removed]",
      "text/plain": [
       "<Figure size 640x480 with 1 Axes>"
      ]
     },
     "metadata": {},
     "output_type": "display_data"
    }
   ],
   "source": [
    "plt.plot(x_values, z_hat[:, 0])"
   ]
  }
 ],
 "metadata": {
  "kernelspec": {
   "display_name": "wscrl",
   "language": "python",
   "name": "python3"
  },
  "language_info": {
   "codemirror_mode": {
    "name": "ipython",
    "version": 3
   },
   "file_extension": ".py",
   "mimetype": "text/x-python",
   "name": "python",
   "nbconvert_exporter": "python",
   "pygments_lexer": "ipython3",
   "version": "3.8.16"
  }
 },
 "nbformat": 4,
 "nbformat_minor": 2
}
