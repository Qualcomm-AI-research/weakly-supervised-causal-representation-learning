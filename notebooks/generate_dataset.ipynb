{
 "cells": [
  {
   "cell_type": "code",
   "execution_count": 18,
   "metadata": {},
   "outputs": [
    {
     "name": "stdout",
     "output_type": "stream",
     "text": [
      "The autoreload extension is already loaded. To reload it, use:\n",
      "  %reload_ext autoreload\n"
     ]
    }
   ],
   "source": [
    "%load_ext autoreload\n",
    "%autoreload 2"
   ]
  },
  {
   "cell_type": "code",
   "execution_count": 19,
   "metadata": {},
   "outputs": [],
   "source": [
    "from omegaconf import OmegaConf\n",
    "import os\n",
    "import numpy as np\n",
    "import torch\n",
    "\n",
    "data_type = \"image\"\n",
    "base_dir = \"/mnt/raid/ni/jonasb/wscrl\"\n",
    "# exp_name = \"scaling_cubes_uniform_100k\"\n",
    "exp_name = \"scaling_cubes_nature_2d\"\n",
    "cfg_path = os.path.join(base_dir, exp_name, \"config.yml\")\n",
    "cfg = OmegaConf.load(cfg_path)"
   ]
  },
  {
   "cell_type": "code",
   "execution_count": 20,
   "metadata": {},
   "outputs": [],
   "source": [
    "from experiments.scaling_cubes_nature import create_true_model, create_true_model2d\n",
    "\n",
    "if \"cube_movement\" not in cfg.data.nature or cfg.data.nature.cube_movement == \"1d\":\n",
    "    model = create_true_model(cfg)\n",
    "elif cfg.data.nature.cube_movement == \"2d\":\n",
    "    model = create_true_model2d(cfg)"
   ]
  },
  {
   "cell_type": "code",
   "execution_count": 21,
   "metadata": {},
   "outputs": [],
   "source": [
    "with torch.no_grad():\n",
    "    x1, x2, z1, z2, *_ = model.sample(10000)"
   ]
  },
  {
   "cell_type": "code",
   "execution_count": 22,
   "metadata": {},
   "outputs": [
    {
     "name": "stdout",
     "output_type": "stream",
     "text": [
      "tensor(0.0016)\n",
      "tensor(0.0041)\n"
     ]
    }
   ],
   "source": [
    "if \"cube_movement\" not in cfg.data.nature or cfg.data.nature.cube_movement == \"1d\":\n",
    "    print(((z1[:, 0] + z1[:, 1]) / 2 - z1[:, 2]).mean())\n",
    "elif cfg.data.nature.cube_movement == \"2d\":\n",
    "    print(((z1[:, 0] + z1[:, 2]) / 2 - z1[:, 4]).mean())\n",
    "    print(((z2[:, 1] + z2[:, 3]) / 2 - z2[:, 5]).mean())"
   ]
  },
  {
   "cell_type": "code",
   "execution_count": 25,
   "metadata": {},
   "outputs": [
    {
     "data": {
      "text/plain": [
       "tensor(0.2999)"
      ]
     },
     "execution_count": 25,
     "metadata": {},
     "output_type": "execute_result"
    }
   ],
   "source": [
    "((z1[:, 0] + z1[:, 2]) / 2 - z1[:, 4]).max()"
   ]
  },
  {
   "cell_type": "code",
   "execution_count": null,
   "metadata": {},
   "outputs": [],
   "source": []
  }
 ],
 "metadata": {
  "kernelspec": {
   "display_name": "wscrl",
   "language": "python",
   "name": "python3"
  },
  "language_info": {
   "codemirror_mode": {
    "name": "ipython",
    "version": 3
   },
   "file_extension": ".py",
   "mimetype": "text/x-python",
   "name": "python",
   "nbconvert_exporter": "python",
   "pygments_lexer": "ipython3",
   "version": "3.8.16"
  },
  "orig_nbformat": 4
 },
 "nbformat": 4,
 "nbformat_minor": 2
}
