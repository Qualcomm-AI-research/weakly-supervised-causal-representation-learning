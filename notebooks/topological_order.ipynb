{
 "cells": [
  {
   "cell_type": "code",
   "execution_count": 7,
   "metadata": {},
   "outputs": [
    {
     "name": "stderr",
     "output_type": "stream",
     "text": [
      "/mnt/antares_raid/home/jonasb/Projects/wscrl/repo/experiments/cubes_2d.py:50: UserWarning: \n",
      "The version_base parameter is not specified.\n",
      "Please specify a compatability version level, or None.\n",
      "Will assume defaults for version 1.1\n",
      "  @hydra.main(\n"
     ]
    }
   ],
   "source": [
    "from experiments.cubes_2d import get_dataloader, create_model"
   ]
  },
  {
   "cell_type": "code",
   "execution_count": 8,
   "metadata": {},
   "outputs": [],
   "source": [
    "import logging\n",
    "from omegaconf import OmegaConf\n",
    "import torch\n",
    "from pathlib import Path\n",
    "import matplotlib.pyplot as plt\n",
    "import numpy as np\n",
    "from torch.utils.data import DataLoader, Subset\n",
    "\n",
    "torch.set_grad_enabled(False)\n",
    "\n",
    "logger = logging.getLogger()\n",
    "\n",
    "EXP_DIR = Path(\"/mnt/raid/ni/jonasb/wscrl/saved/causal_variables_wrong_top?\")\n",
    "\n",
    "model_path = EXP_DIR / \"models\" / \"model.pt\"\n",
    "# model_path = EXP_DIR / \"models\" / \"model_step_150000.pt\"\n",
    "cfg_path = EXP_DIR / \"config.yml\"\n",
    "\n",
    "cfg = OmegaConf.load(cfg_path)\n",
    "\n",
    "model = create_model(cfg)\n",
    "model.load_state_dict(torch.load(model_path))\n",
    "model.eval()\n",
    "\n",
    "device = torch.device(cfg.training.device)\n",
    "model.to(device)\n",
    "\n",
    "CAUSAL_VARIABLES = [\n",
    "    \"pos_x1\",\n",
    "    \"pos_y1\",\n",
    "    \"pos_x2\",\n",
    "    \"pos_y2\",\n",
    "    \"pos_x3\",\n",
    "    \"pos_y3\",\n",
    "]\n",
    "\n",
    "CAUSAL_GRAPH = torch.tensor(\n",
    "    [\n",
    "        [0, 0, 0, 0, 1, 0],\n",
    "        [0, 0, 0, 0, 0, 1],\n",
    "        [0, 0, 0, 0, 1, 0],\n",
    "        [0, 0, 0, 0, 0, 1],\n",
    "        [0, 0, 0, 0, 0, 0],\n",
    "        [0, 0, 0, 0, 0, 0],\n",
    "    ]\n",
    ")\n",
    "\n",
    "train_loader = get_dataloader(\n",
    "    cfg, \"train\", batchsize=cfg.training.batchsize, shuffle=False, include_noise_encodings=True\n",
    ")\n",
    "val_loader = get_dataloader(\n",
    "    cfg, \"val\", batchsize=cfg.training.batchsize, shuffle=False, include_noise_encodings=True\n",
    ")"
   ]
  },
  {
   "cell_type": "code",
   "execution_count": 5,
   "metadata": {},
   "outputs": [],
   "source": [
    "def read_topological_from_output_log(output_log):\n",
    "    with open(output_log, \"r\") as f:\n",
    "        for line in f:\n",
    "            if \"Topological order\" in line:\n",
    "                return [int(x) for x in line.split(\"[\")[2].split(\"]\")[0].split(\", \")]"
   ]
  },
  {
   "cell_type": "code",
   "execution_count": 6,
   "metadata": {},
   "outputs": [
    {
     "data": {
      "text/plain": [
       "[4, 0, 3, 2, 1, 5]"
      ]
     },
     "execution_count": 6,
     "metadata": {},
     "output_type": "execute_result"
    }
   ],
   "source": [
    "topological_order = read_topological_from_output_log(EXP_DIR / \"output.log\")\n",
    "topological_order"
   ]
  },
  {
   "cell_type": "code",
   "execution_count": null,
   "metadata": {},
   "outputs": [],
   "source": []
  }
 ],
 "metadata": {
  "kernelspec": {
   "display_name": "wscrl",
   "language": "python",
   "name": "python3"
  },
  "language_info": {
   "codemirror_mode": {
    "name": "ipython",
    "version": 3
   },
   "file_extension": ".py",
   "mimetype": "text/x-python",
   "name": "python",
   "nbconvert_exporter": "python",
   "pygments_lexer": "ipython3",
   "version": "3.8.16"
  }
 },
 "nbformat": 4,
 "nbformat_minor": 2
}
