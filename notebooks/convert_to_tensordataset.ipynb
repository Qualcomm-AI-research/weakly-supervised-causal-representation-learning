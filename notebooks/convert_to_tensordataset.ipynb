{
 "cells": [
  {
   "cell_type": "code",
   "execution_count": 6,
   "metadata": {},
   "outputs": [],
   "source": [
    "import torch\n",
    "from pathlib import Path"
   ]
  },
  {
   "cell_type": "code",
   "execution_count": 42,
   "metadata": {},
   "outputs": [],
   "source": [
    "from experiments.scaling_cubes import SceneDecodedCausalVariablesDataset\n",
    "\n",
    "\n",
    "dataset = \"3node_64_png\"\n",
    "base_dir = Path(\"/mnt/raid/ni/jonasb/wscrl\")\n",
    "data_dir = base_dir / \"data\"\n",
    "dataset_dir = data_dir / (dataset + \"_decoded\")\n",
    "dataset_converted_dir = data_dir / (dataset + \"_decoded_flat\")\n",
    "\n",
    "if not dataset_converted_dir.exists():\n",
    "    dataset_converted_dir.mkdir(parents=True)\n",
    "\n",
    "tags = [\"train\", \"val\", \"test\", \"dci_train\"]\n",
    "for tag in tags:\n",
    "    filename_dataset = dataset_dir / f\"{tag}.pt\"\n",
    "    dataset = torch.load(filename_dataset)\n",
    "    dataloader = torch.utils.data.DataLoader(dataset, batch_size=len(dataset), shuffle=False)\n",
    "    data = tuple(next(iter(dataloader)))\n",
    "\n",
    "    filename_converted = dataset_converted_dir / f\"{tag}.pt\"\n",
    "    torch.save(data, filename_converted)"
   ]
  }
 ],
 "metadata": {
  "kernelspec": {
   "display_name": "Python 3",
   "language": "python",
   "name": "python3"
  },
  "language_info": {
   "codemirror_mode": {
    "name": "ipython",
    "version": 3
   },
   "file_extension": ".py",
   "mimetype": "text/x-python",
   "name": "python",
   "nbconvert_exporter": "python",
   "pygments_lexer": "ipython3",
   "version": "3.8.16"
  },
  "orig_nbformat": 4
 },
 "nbformat": 4,
 "nbformat_minor": 2
}
